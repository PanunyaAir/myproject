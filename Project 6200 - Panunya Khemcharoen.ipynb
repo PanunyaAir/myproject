{
 "cells": [
  {
   "cell_type": "markdown",
   "id": "0ac592bb",
   "metadata": {},
   "source": [
    "# Supermarket sales analysis\n",
    "\n",
    "The food retail market is extremely competitive. Thus, having insights into consumer behavior can help businesses meet customer objectives and turn them to loyal customers. Due to this reason, the aim of this project is to find out ways to boost customer loyalty, to lead higher sales and a strong brand.\n",
    "\n",
    "## Data Exploration and Preprocessing\n",
    "\n",
    "The dataset used in this analysis is a Supermarket historical sales over 3 months from Jan-March 2019 from 3 different branches including. The dataset consists of 17 variables, such as Invoice ID, City, Customer type, Gender, Product line, Total, Date, Time, Payment, Gross income, Rating etc. The data set did not require extensive cleaning; there were no missing values and no duplicated values. "
   ]
  },
  {
   "cell_type": "code",
   "execution_count": 32,
   "id": "4f6f46b8",
   "metadata": {},
   "outputs": [],
   "source": [
    "import pandas as pd"
   ]
  },
  {
   "cell_type": "code",
   "execution_count": 33,
   "id": "830a2601",
   "metadata": {},
   "outputs": [],
   "source": [
    "sales = pd.read_csv(\"/Users/panunyakhemcharoen/Downloads/supermarket.csv\")"
   ]
  },
  {
   "cell_type": "code",
   "execution_count": 34,
   "id": "6b40c22a",
   "metadata": {},
   "outputs": [
    {
     "data": {
      "text/html": [
       "<div>\n",
       "<style scoped>\n",
       "    .dataframe tbody tr th:only-of-type {\n",
       "        vertical-align: middle;\n",
       "    }\n",
       "\n",
       "    .dataframe tbody tr th {\n",
       "        vertical-align: top;\n",
       "    }\n",
       "\n",
       "    .dataframe thead th {\n",
       "        text-align: right;\n",
       "    }\n",
       "</style>\n",
       "<table border=\"1\" class=\"dataframe\">\n",
       "  <thead>\n",
       "    <tr style=\"text-align: right;\">\n",
       "      <th></th>\n",
       "      <th>Invoice ID</th>\n",
       "      <th>Branch</th>\n",
       "      <th>City</th>\n",
       "      <th>Customer type</th>\n",
       "      <th>Gender</th>\n",
       "      <th>Product line</th>\n",
       "      <th>Unit price</th>\n",
       "      <th>Quantity</th>\n",
       "      <th>Tax 5%</th>\n",
       "      <th>Total</th>\n",
       "      <th>Date</th>\n",
       "      <th>Time</th>\n",
       "      <th>Payment</th>\n",
       "      <th>cogs</th>\n",
       "      <th>gross margin percentage</th>\n",
       "      <th>gross income</th>\n",
       "      <th>Rating</th>\n",
       "    </tr>\n",
       "  </thead>\n",
       "  <tbody>\n",
       "    <tr>\n",
       "      <th>0</th>\n",
       "      <td>750-67-8428</td>\n",
       "      <td>A</td>\n",
       "      <td>Yangon</td>\n",
       "      <td>Member</td>\n",
       "      <td>Female</td>\n",
       "      <td>Health and beauty</td>\n",
       "      <td>74.69</td>\n",
       "      <td>7</td>\n",
       "      <td>26.1415</td>\n",
       "      <td>548.9715</td>\n",
       "      <td>1/5/2019</td>\n",
       "      <td>13:08</td>\n",
       "      <td>Ewallet</td>\n",
       "      <td>522.83</td>\n",
       "      <td>4.761905</td>\n",
       "      <td>26.1415</td>\n",
       "      <td>9.1</td>\n",
       "    </tr>\n",
       "    <tr>\n",
       "      <th>1</th>\n",
       "      <td>226-31-3081</td>\n",
       "      <td>C</td>\n",
       "      <td>Naypyitaw</td>\n",
       "      <td>Normal</td>\n",
       "      <td>Female</td>\n",
       "      <td>Electronic accessories</td>\n",
       "      <td>15.28</td>\n",
       "      <td>5</td>\n",
       "      <td>3.8200</td>\n",
       "      <td>80.2200</td>\n",
       "      <td>3/8/2019</td>\n",
       "      <td>10:29</td>\n",
       "      <td>Cash</td>\n",
       "      <td>76.40</td>\n",
       "      <td>4.761905</td>\n",
       "      <td>3.8200</td>\n",
       "      <td>9.6</td>\n",
       "    </tr>\n",
       "    <tr>\n",
       "      <th>2</th>\n",
       "      <td>631-41-3108</td>\n",
       "      <td>A</td>\n",
       "      <td>Yangon</td>\n",
       "      <td>Normal</td>\n",
       "      <td>Male</td>\n",
       "      <td>Home and lifestyle</td>\n",
       "      <td>46.33</td>\n",
       "      <td>7</td>\n",
       "      <td>16.2155</td>\n",
       "      <td>340.5255</td>\n",
       "      <td>3/3/2019</td>\n",
       "      <td>13:23</td>\n",
       "      <td>Credit card</td>\n",
       "      <td>324.31</td>\n",
       "      <td>4.761905</td>\n",
       "      <td>16.2155</td>\n",
       "      <td>7.4</td>\n",
       "    </tr>\n",
       "    <tr>\n",
       "      <th>3</th>\n",
       "      <td>123-19-1176</td>\n",
       "      <td>A</td>\n",
       "      <td>Yangon</td>\n",
       "      <td>Member</td>\n",
       "      <td>Male</td>\n",
       "      <td>Health and beauty</td>\n",
       "      <td>58.22</td>\n",
       "      <td>8</td>\n",
       "      <td>23.2880</td>\n",
       "      <td>489.0480</td>\n",
       "      <td>1/27/2019</td>\n",
       "      <td>20:33</td>\n",
       "      <td>Ewallet</td>\n",
       "      <td>465.76</td>\n",
       "      <td>4.761905</td>\n",
       "      <td>23.2880</td>\n",
       "      <td>8.4</td>\n",
       "    </tr>\n",
       "    <tr>\n",
       "      <th>4</th>\n",
       "      <td>373-73-7910</td>\n",
       "      <td>A</td>\n",
       "      <td>Yangon</td>\n",
       "      <td>Normal</td>\n",
       "      <td>Male</td>\n",
       "      <td>Sports and travel</td>\n",
       "      <td>86.31</td>\n",
       "      <td>7</td>\n",
       "      <td>30.2085</td>\n",
       "      <td>634.3785</td>\n",
       "      <td>2/8/2019</td>\n",
       "      <td>10:37</td>\n",
       "      <td>Ewallet</td>\n",
       "      <td>604.17</td>\n",
       "      <td>4.761905</td>\n",
       "      <td>30.2085</td>\n",
       "      <td>5.3</td>\n",
       "    </tr>\n",
       "  </tbody>\n",
       "</table>\n",
       "</div>"
      ],
      "text/plain": [
       "    Invoice ID Branch       City Customer type  Gender  \\\n",
       "0  750-67-8428      A     Yangon        Member  Female   \n",
       "1  226-31-3081      C  Naypyitaw        Normal  Female   \n",
       "2  631-41-3108      A     Yangon        Normal    Male   \n",
       "3  123-19-1176      A     Yangon        Member    Male   \n",
       "4  373-73-7910      A     Yangon        Normal    Male   \n",
       "\n",
       "             Product line  Unit price  Quantity   Tax 5%     Total       Date  \\\n",
       "0       Health and beauty       74.69         7  26.1415  548.9715   1/5/2019   \n",
       "1  Electronic accessories       15.28         5   3.8200   80.2200   3/8/2019   \n",
       "2      Home and lifestyle       46.33         7  16.2155  340.5255   3/3/2019   \n",
       "3       Health and beauty       58.22         8  23.2880  489.0480  1/27/2019   \n",
       "4       Sports and travel       86.31         7  30.2085  634.3785   2/8/2019   \n",
       "\n",
       "    Time      Payment    cogs  gross margin percentage  gross income  Rating  \n",
       "0  13:08      Ewallet  522.83                 4.761905       26.1415     9.1  \n",
       "1  10:29         Cash   76.40                 4.761905        3.8200     9.6  \n",
       "2  13:23  Credit card  324.31                 4.761905       16.2155     7.4  \n",
       "3  20:33      Ewallet  465.76                 4.761905       23.2880     8.4  \n",
       "4  10:37      Ewallet  604.17                 4.761905       30.2085     5.3  "
      ]
     },
     "execution_count": 34,
     "metadata": {},
     "output_type": "execute_result"
    }
   ],
   "source": [
    "# Data Exploration and Prepossessing \n",
    "## Overview of dataset\n",
    "sales.head()"
   ]
  },
  {
   "cell_type": "code",
   "execution_count": 4,
   "id": "748dfefd",
   "metadata": {},
   "outputs": [
    {
     "data": {
      "text/plain": [
       "Invoice ID                 0\n",
       "Branch                     0\n",
       "City                       0\n",
       "Customer type              0\n",
       "Gender                     0\n",
       "Product line               0\n",
       "Unit price                 0\n",
       "Quantity                   0\n",
       "Tax 5%                     0\n",
       "Total                      0\n",
       "Date                       0\n",
       "Time                       0\n",
       "Payment                    0\n",
       "cogs                       0\n",
       "gross margin percentage    0\n",
       "gross income               0\n",
       "Rating                     0\n",
       "dtype: int64"
      ]
     },
     "execution_count": 4,
     "metadata": {},
     "output_type": "execute_result"
    }
   ],
   "source": [
    "sales.isnull().sum()"
   ]
  },
  {
   "cell_type": "code",
   "execution_count": 7,
   "id": "f4915e9d",
   "metadata": {},
   "outputs": [
    {
     "data": {
      "text/plain": [
       "0"
      ]
     },
     "execution_count": 7,
     "metadata": {},
     "output_type": "execute_result"
    }
   ],
   "source": [
    "sales.duplicated().sum()"
   ]
  },
  {
   "cell_type": "markdown",
   "id": "5d37ed74",
   "metadata": {},
   "source": [
    "However, I decided to drop some variables including Invoice ID, City, and Gross margin percentage, because Invoice ID is meaningless, while City is redundant with Branch and Gross margin percentage is constant value. Moreover, I created two new variables: Day of week and Time, as part of visualization. Day of week is to display which day customers are likely to buy most, while Time is to represent which time of the day is the busiest."
   ]
  },
  {
   "cell_type": "code",
   "execution_count": 35,
   "id": "82da8252",
   "metadata": {},
   "outputs": [
    {
     "data": {
      "text/html": [
       "<div>\n",
       "<style scoped>\n",
       "    .dataframe tbody tr th:only-of-type {\n",
       "        vertical-align: middle;\n",
       "    }\n",
       "\n",
       "    .dataframe tbody tr th {\n",
       "        vertical-align: top;\n",
       "    }\n",
       "\n",
       "    .dataframe thead th {\n",
       "        text-align: right;\n",
       "    }\n",
       "</style>\n",
       "<table border=\"1\" class=\"dataframe\">\n",
       "  <thead>\n",
       "    <tr style=\"text-align: right;\">\n",
       "      <th></th>\n",
       "      <th>Branch</th>\n",
       "      <th>Customer type</th>\n",
       "      <th>Gender</th>\n",
       "      <th>Product line</th>\n",
       "      <th>Unit price</th>\n",
       "      <th>Quantity</th>\n",
       "      <th>Tax 5%</th>\n",
       "      <th>Total</th>\n",
       "      <th>Date</th>\n",
       "      <th>Time</th>\n",
       "      <th>Payment</th>\n",
       "      <th>cogs</th>\n",
       "      <th>gross income</th>\n",
       "      <th>Rating</th>\n",
       "    </tr>\n",
       "  </thead>\n",
       "  <tbody>\n",
       "    <tr>\n",
       "      <th>0</th>\n",
       "      <td>A</td>\n",
       "      <td>Member</td>\n",
       "      <td>Female</td>\n",
       "      <td>Health and beauty</td>\n",
       "      <td>74.69</td>\n",
       "      <td>7</td>\n",
       "      <td>26.1415</td>\n",
       "      <td>548.9715</td>\n",
       "      <td>1/5/2019</td>\n",
       "      <td>13:08</td>\n",
       "      <td>Ewallet</td>\n",
       "      <td>522.83</td>\n",
       "      <td>26.1415</td>\n",
       "      <td>9.1</td>\n",
       "    </tr>\n",
       "    <tr>\n",
       "      <th>1</th>\n",
       "      <td>C</td>\n",
       "      <td>Normal</td>\n",
       "      <td>Female</td>\n",
       "      <td>Electronic accessories</td>\n",
       "      <td>15.28</td>\n",
       "      <td>5</td>\n",
       "      <td>3.8200</td>\n",
       "      <td>80.2200</td>\n",
       "      <td>3/8/2019</td>\n",
       "      <td>10:29</td>\n",
       "      <td>Cash</td>\n",
       "      <td>76.40</td>\n",
       "      <td>3.8200</td>\n",
       "      <td>9.6</td>\n",
       "    </tr>\n",
       "    <tr>\n",
       "      <th>2</th>\n",
       "      <td>A</td>\n",
       "      <td>Normal</td>\n",
       "      <td>Male</td>\n",
       "      <td>Home and lifestyle</td>\n",
       "      <td>46.33</td>\n",
       "      <td>7</td>\n",
       "      <td>16.2155</td>\n",
       "      <td>340.5255</td>\n",
       "      <td>3/3/2019</td>\n",
       "      <td>13:23</td>\n",
       "      <td>Credit card</td>\n",
       "      <td>324.31</td>\n",
       "      <td>16.2155</td>\n",
       "      <td>7.4</td>\n",
       "    </tr>\n",
       "    <tr>\n",
       "      <th>3</th>\n",
       "      <td>A</td>\n",
       "      <td>Member</td>\n",
       "      <td>Male</td>\n",
       "      <td>Health and beauty</td>\n",
       "      <td>58.22</td>\n",
       "      <td>8</td>\n",
       "      <td>23.2880</td>\n",
       "      <td>489.0480</td>\n",
       "      <td>1/27/2019</td>\n",
       "      <td>20:33</td>\n",
       "      <td>Ewallet</td>\n",
       "      <td>465.76</td>\n",
       "      <td>23.2880</td>\n",
       "      <td>8.4</td>\n",
       "    </tr>\n",
       "    <tr>\n",
       "      <th>4</th>\n",
       "      <td>A</td>\n",
       "      <td>Normal</td>\n",
       "      <td>Male</td>\n",
       "      <td>Sports and travel</td>\n",
       "      <td>86.31</td>\n",
       "      <td>7</td>\n",
       "      <td>30.2085</td>\n",
       "      <td>634.3785</td>\n",
       "      <td>2/8/2019</td>\n",
       "      <td>10:37</td>\n",
       "      <td>Ewallet</td>\n",
       "      <td>604.17</td>\n",
       "      <td>30.2085</td>\n",
       "      <td>5.3</td>\n",
       "    </tr>\n",
       "  </tbody>\n",
       "</table>\n",
       "</div>"
      ],
      "text/plain": [
       "  Branch Customer type  Gender            Product line  Unit price  Quantity  \\\n",
       "0      A        Member  Female       Health and beauty       74.69         7   \n",
       "1      C        Normal  Female  Electronic accessories       15.28         5   \n",
       "2      A        Normal    Male      Home and lifestyle       46.33         7   \n",
       "3      A        Member    Male       Health and beauty       58.22         8   \n",
       "4      A        Normal    Male       Sports and travel       86.31         7   \n",
       "\n",
       "    Tax 5%     Total       Date   Time      Payment    cogs  gross income  \\\n",
       "0  26.1415  548.9715   1/5/2019  13:08      Ewallet  522.83       26.1415   \n",
       "1   3.8200   80.2200   3/8/2019  10:29         Cash   76.40        3.8200   \n",
       "2  16.2155  340.5255   3/3/2019  13:23  Credit card  324.31       16.2155   \n",
       "3  23.2880  489.0480  1/27/2019  20:33      Ewallet  465.76       23.2880   \n",
       "4  30.2085  634.3785   2/8/2019  10:37      Ewallet  604.17       30.2085   \n",
       "\n",
       "   Rating  \n",
       "0     9.1  \n",
       "1     9.6  \n",
       "2     7.4  \n",
       "3     8.4  \n",
       "4     5.3  "
      ]
     },
     "execution_count": 35,
     "metadata": {},
     "output_type": "execute_result"
    }
   ],
   "source": [
    "sales.drop(['Invoice ID','City','gross margin percentage'],axis = 'columns',inplace = True)\n",
    "sales.head()"
   ]
  },
  {
   "cell_type": "code",
   "execution_count": 12,
   "id": "0f098553",
   "metadata": {},
   "outputs": [
    {
     "data": {
      "text/plain": [
       "0      Saturday\n",
       "1        Friday\n",
       "2        Sunday\n",
       "3        Sunday\n",
       "4        Friday\n",
       "         ...   \n",
       "995     Tuesday\n",
       "996    Saturday\n",
       "997    Saturday\n",
       "998      Friday\n",
       "999      Monday\n",
       "Name: day_of_week, Length: 1000, dtype: object"
      ]
     },
     "execution_count": 12,
     "metadata": {},
     "output_type": "execute_result"
    }
   ],
   "source": [
    "sales['Date'] = pd.to_datetime(sales['Date'])\n",
    "sales['day_of_week'] = sales['Date'].dt.day_name()\n",
    "sales['day_of_week']"
   ]
  },
  {
   "cell_type": "code",
   "execution_count": 13,
   "id": "4fc42a1f",
   "metadata": {},
   "outputs": [
    {
     "data": {
      "text/plain": [
       "0      13\n",
       "1      10\n",
       "2      13\n",
       "3      20\n",
       "4      10\n",
       "       ..\n",
       "995    13\n",
       "996    17\n",
       "997    13\n",
       "998    15\n",
       "999    13\n",
       "Name: Time, Length: 1000, dtype: object"
      ]
     },
     "execution_count": 13,
     "metadata": {},
     "output_type": "execute_result"
    }
   ],
   "source": [
    "sales[[\"Time\", \"mins\"]] = sales[\"Time\"].str.split(\":\", expand=True)\n",
    "sales[\"Time\"]"
   ]
  },
  {
   "cell_type": "markdown",
   "id": "7d23f859",
   "metadata": {},
   "source": [
    "Apart from checking missing values and duplicated values, removing, creating two new variables as part of visualization, I summarized the total amount of sales and gross income using the groupby function, because Supermarket might be interested in a general overview of the sales at each branch."
   ]
  },
  {
   "cell_type": "code",
   "execution_count": 9,
   "id": "dc39f3cd",
   "metadata": {},
   "outputs": [
    {
     "data": {
      "text/html": [
       "<div>\n",
       "<style scoped>\n",
       "    .dataframe tbody tr th:only-of-type {\n",
       "        vertical-align: middle;\n",
       "    }\n",
       "\n",
       "    .dataframe tbody tr th {\n",
       "        vertical-align: top;\n",
       "    }\n",
       "\n",
       "    .dataframe thead th {\n",
       "        text-align: right;\n",
       "    }\n",
       "</style>\n",
       "<table border=\"1\" class=\"dataframe\">\n",
       "  <thead>\n",
       "    <tr style=\"text-align: right;\">\n",
       "      <th></th>\n",
       "      <th>Unit price</th>\n",
       "      <th>Quantity</th>\n",
       "      <th>Tax 5%</th>\n",
       "      <th>Total</th>\n",
       "      <th>cogs</th>\n",
       "      <th>gross income</th>\n",
       "      <th>Rating</th>\n",
       "    </tr>\n",
       "    <tr>\n",
       "      <th>Branch</th>\n",
       "      <th></th>\n",
       "      <th></th>\n",
       "      <th></th>\n",
       "      <th></th>\n",
       "      <th></th>\n",
       "      <th></th>\n",
       "      <th></th>\n",
       "    </tr>\n",
       "  </thead>\n",
       "  <tbody>\n",
       "    <tr>\n",
       "      <th>A</th>\n",
       "      <td>18625.49</td>\n",
       "      <td>1859</td>\n",
       "      <td>5057.1605</td>\n",
       "      <td>106200.3705</td>\n",
       "      <td>101143.21</td>\n",
       "      <td>5057.1605</td>\n",
       "      <td>2389.2</td>\n",
       "    </tr>\n",
       "    <tr>\n",
       "      <th>B</th>\n",
       "      <td>18478.88</td>\n",
       "      <td>1820</td>\n",
       "      <td>5057.0320</td>\n",
       "      <td>106197.6720</td>\n",
       "      <td>101140.64</td>\n",
       "      <td>5057.0320</td>\n",
       "      <td>2263.6</td>\n",
       "    </tr>\n",
       "    <tr>\n",
       "      <th>C</th>\n",
       "      <td>18567.76</td>\n",
       "      <td>1831</td>\n",
       "      <td>5265.1765</td>\n",
       "      <td>110568.7065</td>\n",
       "      <td>105303.53</td>\n",
       "      <td>5265.1765</td>\n",
       "      <td>2319.9</td>\n",
       "    </tr>\n",
       "  </tbody>\n",
       "</table>\n",
       "</div>"
      ],
      "text/plain": [
       "        Unit price  Quantity     Tax 5%        Total       cogs  gross income  \\\n",
       "Branch                                                                          \n",
       "A         18625.49      1859  5057.1605  106200.3705  101143.21     5057.1605   \n",
       "B         18478.88      1820  5057.0320  106197.6720  101140.64     5057.0320   \n",
       "C         18567.76      1831  5265.1765  110568.7065  105303.53     5265.1765   \n",
       "\n",
       "        Rating  \n",
       "Branch          \n",
       "A       2389.2  \n",
       "B       2263.6  \n",
       "C       2319.9  "
      ]
     },
     "execution_count": 9,
     "metadata": {},
     "output_type": "execute_result"
    }
   ],
   "source": [
    "sales.groupby(['Branch']).sum()"
   ]
  },
  {
   "cell_type": "markdown",
   "id": "cb3ea5ba",
   "metadata": {},
   "source": [
    "As we can see Branch C is the most profitable. The total sales amount of this branch and gross income are slightly higher than the other branches."
   ]
  },
  {
   "cell_type": "markdown",
   "id": "6e4ca3f5",
   "metadata": {},
   "source": [
    "# Data Visualization\n",
    "\n",
    "After considering, Customer type, Gender, Product line, Total, Date, Time, Payment, Gross income and Rating seem to be important to my problem motivation. Thus, I chose to create visualization out of these variables. The first visualization will help Supermarket to see what is the spending pattern of females and males and in which category they spend a lot."
   ]
  },
  {
   "cell_type": "code",
   "execution_count": 23,
   "id": "97fcbb22",
   "metadata": {},
   "outputs": [],
   "source": [
    "import seaborn as sns"
   ]
  },
  {
   "cell_type": "code",
   "execution_count": 24,
   "id": "c257b9ac",
   "metadata": {},
   "outputs": [
    {
     "data": {
      "text/plain": [
       "Text(0, 0.5, 'Product Line')"
      ]
     },
     "execution_count": 24,
     "metadata": {},
     "output_type": "execute_result"
    },
    {
     "data": {
      "image/png": "[encoded data removed]",
      "text/plain": [
       "<Figure size 1008x432 with 1 Axes>"
      ]
     },
     "metadata": {
      "needs_background": "light"
     },
     "output_type": "display_data"
    }
   ],
   "source": [
    "plt.figure(figsize=(14,6))\n",
    "ax = sns.countplot(y='Product line', hue = \"Gender\", data=sales, order = sales['Product line'].value_counts().index)\n",
    "ax.set_xlabel(xlabel = \"Total items customers bought\", fontsize = 16)\n",
    "ax.set_ylabel(ylabel= \"Product Line\", fontsize = 16)"
   ]
  },
  {
   "cell_type": "markdown",
   "id": "c94996dc",
   "metadata": {},
   "source": [
    "It is interesting to see that males spend most in the health and beauty. Females spend most in the fashion accessories. Females also spend more in the sports and travel.\n",
    "\n",
    "The second visualization will help Supermarket to see if there is any particular day of the week that the sales is higher."
   ]
  },
  {
   "cell_type": "code",
   "execution_count": 25,
   "id": "077ba54a",
   "metadata": {},
   "outputs": [
    {
     "data": {
      "image/png": "[encoded data removed]",
      "text/plain": [
       "<Figure size 432x288 with 1 Axes>"
      ]
     },
     "metadata": {
      "needs_background": "light"
     },
     "output_type": "display_data"
    }
   ],
   "source": [
    "sales['day_of_week'] = pd.Categorical(sales['day_of_week'],\n",
    "                                   categories=['Monday', 'Tuesday', 'Wednesday', 'Thursday', 'Friday', 'Saturday', 'Sunday'],\n",
    "                                   ordered=True)\n",
    "ax = sns.lineplot(x = \"day_of_week\", y = \"Total\", data = sales,)"
   ]
  },
  {
   "cell_type": "markdown",
   "id": "de1f6918",
   "metadata": {},
   "source": [
    "Sales is highest on Saturday. Interestingly, Thursday is the second close, followed by Tuesday. Monday is the lowest in sales, probably because it is start of the working week.\n",
    "\n",
    "The third visualization helps Supermarket know which time of the day is the busiest."
   ]
  },
  {
   "cell_type": "code",
   "execution_count": 26,
   "id": "9ee283f3",
   "metadata": {},
   "outputs": [
    {
     "data": {
      "image/png": "[encoded data removed]",
      "text/plain": [
       "<Figure size 432x288 with 1 Axes>"
      ]
     },
     "metadata": {
      "needs_background": "light"
     },
     "output_type": "display_data"
    }
   ],
   "source": [
    "ax = sns.lineplot(x = \"Time\", y = \"Total\", data = sales)"
   ]
  },
  {
   "cell_type": "markdown",
   "id": "5ae05ace",
   "metadata": {},
   "source": [
    "It is obvious that sales 2PM is busiest, followed by 7PM. \n",
    "\n",
    "The next visualization helps Supermarket see average rating each branch received from customers."
   ]
  },
  {
   "cell_type": "code",
   "execution_count": 14,
   "id": "45cbe7e7",
   "metadata": {},
   "outputs": [
    {
     "name": "stdout",
     "output_type": "stream",
     "text": [
      "%pylab is deprecated, use %matplotlib inline and import the required libraries.\n",
      "Populating the interactive namespace from numpy and matplotlib\n"
     ]
    }
   ],
   "source": [
    "%pylab inline"
   ]
  },
  {
   "cell_type": "code",
   "execution_count": 15,
   "id": "ccaccb5e",
   "metadata": {},
   "outputs": [
    {
     "data": {
      "image/png": "[encoded data removed]",
      "text/plain": [
       "<Figure size 432x288 with 1 Axes>"
      ]
     },
     "metadata": {
      "needs_background": "light"
     },
     "output_type": "display_data"
    }
   ],
   "source": [
    "boxplot = sales.boxplot(column=['Rating'],by=\"Branch\", grid= False)\n",
    "plt.title('')\n",
    "plt.suptitle('')\n",
    "boxplot.set_ylabel(\"Rating distribution\");\n",
    "boxplot.plot()\n",
    "plt.show()"
   ]
  },
  {
   "cell_type": "markdown",
   "id": "54d111e8",
   "metadata": {},
   "source": [
    "Branch A and C have slightly higher rating than branch B."
   ]
  },
  {
   "cell_type": "markdown",
   "id": "ab0cca5b",
   "metadata": {},
   "source": [
    "# Conclusion"
   ]
  },
  {
   "cell_type": "markdown",
   "id": "d18bbb25",
   "metadata": {},
   "source": [
    "- Supermarket should focus on health and beauty category for men, and fashion accessories category as well as sports and travel category for female. \n",
    "- Sports and travel category is the second most profitable categories, so Supermarket should probably invest more. \n",
    "- Supermarket should promote sales on Sunday, Thursday and Tuesday in the afternoon at 2PM and 7PM because they appear to be busiest. \n",
    "- Supermarket improve the service at branch B, because it received the least rating from customers in accordance with gross income and total sales of branch B. It appears that branch B has the least total sales and gross income compared to other branches."
   ]
  }
 ],
 "metadata": {
  "kernelspec": {
   "display_name": "Python 3 (ipykernel)",
   "language": "python",
   "name": "python3"
  },
  "language_info": {
   "codemirror_mode": {
    "name": "ipython",
    "version": 3
   },
   "file_extension": ".py",
   "mimetype": "text/x-python",
   "name": "python",
   "nbconvert_exporter": "python",
   "pygments_lexer": "ipython3",
   "version": "3.9.12"
  }
 },
 "nbformat": 4,
 "nbformat_minor": 5
}
